{
  "cells": [
    {
      "attachments": {},
      "cell_type": "markdown",
      "metadata": {},
      "source": [
        "# NB: Recursion\n",
        "\n",
        "**Concepts**\n",
        "- recursion\n",
        "- recursive function\n",
        "- stack\n",
        "- stack overflow\n",
        "\n",
        "## Introduction\n",
        "\n",
        "A recursive function is **a function that calls itself**.\n",
        "\n",
        "This is weird, since it does not seem possible. How can a definition refer to itself?\n",
        "\n",
        "In philosophy, this is expressed in the Barber's Paradox:\n",
        "\n",
        "> The barber is the one who shaves all those, and those only, who do not shave themselves. Does the barber shave himself?\n",
        "\n",
        "Formally, it is a type of [self-reference](https://en.wikipedia.org/wiki/Self-reference), like `This sentence is false.`\n",
        "\n",
        "**A Cute Definition**\n",
        "\n",
        "**recursion** - the art of defining something (at least partly) in terms of itself, which is a naughty no-no in dictionaries but often works out okay in computer programs if you’re careful not to recurse forever (which is like an infinite loop with more spectacular failure modes).\n",
        "\n",
        "Source: _PerlDoc_\n",
        "\n",
        "### A Formal Definition\n",
        "\n",
        "In mathematics and computer science, a class of objects or methods exhibits *recursive behavior* when it can be defined by two properties:\n",
        "\n",
        "A **simple base** case (or cases): a terminating scenario that does not use recursion to produce an answer. \n",
        "\n",
        "A **recursive step**: a set of rules that reduces all successive cases toward the base case.\n",
        "\n",
        "### As Seen in Nature\n",
        "\n",
        "Recursion occurs naturally when a process applies a rule to itself successively. \n",
        "\n",
        "We see this in fractals.\n",
        "\n",
        "### Infinite Loops and Stack Overflows\n",
        "\n",
        "Every recursive function must have a base condition that stops the recursion or else the function calls itself infinitely.\n",
        "\n",
        "The Python interpreter limits the depths of recursion to help avoid infinite recursions, resulting in stack overflows.\n",
        "\n",
        "The **call stack** is where information is stored relating to the active subroutines in a program.\n",
        "\n",
        "The call stack has a limited amount of available memory. When excessive memory consumption occurs on the call stack,\n",
        "it results in a **stack overflow error**.\n",
        "\n",
        "### A Note of Caution\n",
        "\n",
        "So, Recursion is cool, but is expensive and complicated.\n",
        "\n",
        "Recursive functions can usually be implemented by traditional loops.\n",
        "\n",
        "## Example: Computing Factorials\n",
        "\n",
        "[Source](https://www.programiz.com/python-programming/recursion)\n",
        "\n",
        "The factorial of a number $n$ is the product of all the integers from $1$ to $n$. \n",
        "\n",
        "For example, the factorial of $5$ (denoted as $5!$) is $1\\times2\\times3\\times4\\times5 = 120$.\n",
        "\n",
        "Let's implement this in code using a recursive function.\n",
        "\n",
        "### Recursive Function"
      ]
    },
    {
      "cell_type": "code",
      "execution_count": null,
      "metadata": {},
      "outputs": [],
      "source": [
        "n = 5"
      ]
    },
    {
      "cell_type": "code",
      "execution_count": null,
      "metadata": {},
      "outputs": [],
      "source": [
        "##| tags: []\n",
        "def factorial(x):\n",
        "    \"Finds the factorial of an integer using recursion\"\n",
        "    if x == 1: # Base condition\n",
        "        return 1\n",
        "    else:\n",
        "        return x * factorial(x-1)"
      ]
    },
    {
      "cell_type": "code",
      "execution_count": null,
      "metadata": {},
      "outputs": [],
      "source": [
        "##| tags: []\n",
        "%time factorial(n)"
      ]
    },
    {
      "attachments": {},
      "cell_type": "markdown",
      "metadata": {},
      "source": [
        "### As a while loop"
      ]
    },
    {
      "cell_type": "code",
      "execution_count": null,
      "metadata": {},
      "outputs": [],
      "source": [
        "def factorial_while(x):\n",
        "    \"Finds the factorial of an integer using a while loop\"\n",
        "    f = x\n",
        "    while x > 1:\n",
        "        x -= 1\n",
        "        f *= x\n",
        "    return f"
      ]
    },
    {
      "cell_type": "code",
      "execution_count": null,
      "metadata": {},
      "outputs": [],
      "source": [
        "%time factorial_while(n)"
      ]
    },
    {
      "attachments": {},
      "cell_type": "markdown",
      "metadata": {},
      "source": [
        "### As a for loop"
      ]
    },
    {
      "cell_type": "code",
      "execution_count": null,
      "metadata": {},
      "outputs": [],
      "source": [
        "def factorial_for(x):\n",
        "    \"Finds the factorial of an integer using a for loop\"\n",
        "    f = x\n",
        "    for i in range(1, x):\n",
        "        x -= 1\n",
        "        f *= x\n",
        "    return f"
      ]
    },
    {
      "cell_type": "code",
      "execution_count": null,
      "metadata": {},
      "outputs": [],
      "source": [
        "%time factorial_for(n)"
      ]
    },
    {
      "attachments": {},
      "cell_type": "markdown",
      "metadata": {},
      "source": [
        "### Compare functions as $n$ increases\n",
        "\n",
        "#### Increase n to 50"
      ]
    },
    {
      "cell_type": "code",
      "execution_count": null,
      "metadata": {},
      "outputs": [],
      "source": [
        "n = 50\n",
        "%time factorial(n)"
      ]
    },
    {
      "cell_type": "code",
      "execution_count": null,
      "metadata": {},
      "outputs": [],
      "source": [
        "%time factorial_while(n)\n",
        "%time factorial_for(n)"
      ]
    },
    {
      "attachments": {},
      "cell_type": "markdown",
      "metadata": {},
      "source": [
        "#### Increase n to 500"
      ]
    },
    {
      "cell_type": "code",
      "execution_count": null,
      "metadata": {},
      "outputs": [],
      "source": [
        "n = 500"
      ]
    },
    {
      "cell_type": "code",
      "execution_count": null,
      "metadata": {},
      "outputs": [],
      "source": [
        "%time factorial(n)"
      ]
    },
    {
      "cell_type": "code",
      "execution_count": null,
      "metadata": {},
      "outputs": [],
      "source": [
        "%time factorial_while(n)"
      ]
    },
    {
      "cell_type": "code",
      "execution_count": null,
      "metadata": {},
      "outputs": [],
      "source": [
        "%time factorial_for(n)"
      ]
    },
    {
      "attachments": {},
      "cell_type": "markdown",
      "metadata": {},
      "source": [
        "#### Increase n to 5000"
      ]
    },
    {
      "cell_type": "code",
      "execution_count": null,
      "metadata": {},
      "outputs": [],
      "source": [
        "n = 5000\n",
        "%time factorial(n)"
      ]
    },
    {
      "cell_type": "code",
      "execution_count": null,
      "metadata": {},
      "outputs": [],
      "source": [
        "factorial_while(n)"
      ]
    },
    {
      "cell_type": "code",
      "execution_count": null,
      "metadata": {},
      "outputs": [],
      "source": [
        "%time factorial_while(n)"
      ]
    },
    {
      "cell_type": "code",
      "execution_count": null,
      "metadata": {},
      "outputs": [],
      "source": [
        "%time factorial_for(n)"
      ]
    },
    {
      "attachments": {},
      "cell_type": "markdown",
      "metadata": {},
      "source": [
        "## Example: The Fibonacci sequence\n",
        "\n",
        "Fib(0) = 0 (base case 1)\n",
        "\n",
        "Fib(1) = 1 (base case 2)\n",
        "\n",
        "For all integers n > 1, Fib(n) = Fib(n − 1) + Fib(n − 2)"
      ]
    },
    {
      "cell_type": "code",
      "execution_count": null,
      "metadata": {},
      "outputs": [],
      "source": [
        "def Fibonacci(n):\n",
        "    \"Compute a Fibonacci Sequence using recursion\"\n",
        "\n",
        "    # If n is negative\n",
        "    if n < 0:\n",
        "        print(\"Incorrect input. Value must be 0 or greater.\")\n",
        "\n",
        "    # If n is 0\n",
        "    elif n == 0:\n",
        "        return 0\n",
        "\n",
        "    # If n is 1 or 2\n",
        "    elif n == 1 or n == 2:\n",
        "        return 1\n",
        "\n",
        "    else:\n",
        "        return Fibonacci(n - 1) + Fibonacci(n - 2)"
      ]
    },
    {
      "cell_type": "code",
      "execution_count": null,
      "metadata": {},
      "outputs": [],
      "source": [
        "n = 9"
      ]
    },
    {
      "cell_type": "code",
      "execution_count": null,
      "metadata": {},
      "outputs": [],
      "source": [
        "Fibonacci(9)"
      ]
    },
    {
      "cell_type": "code",
      "execution_count": null,
      "metadata": {},
      "outputs": [],
      "source": [
        "for n in range(100):\n",
        "    if n > 0: print(\", \", end=\"\")\n",
        "    print(Fibonacci(n), end=\"\")"
      ]
    },
    {
      "attachments": {},
      "cell_type": "markdown",
      "metadata": {},
      "source": [
        "### As a for loop"
      ]
    },
    {
      "cell_type": "code",
      "execution_count": null,
      "metadata": {},
      "outputs": [],
      "source": [
        "def fibber(r:int = 10):\n",
        "    \"\"\"\n",
        "    Computes a Fibonacci Sequence using a for loop. \n",
        "    Parameter r must be in integer > 3. Defaults to 10.\n",
        "    Returns a string as a comma-limited series.\n",
        "    \"\"\"\n",
        "    seq = [1,1,2] \n",
        "    kernel = lambda x, i: x[i-1] + x[i-2]\n",
        "    for n in range(3, r):\n",
        "        seq.append(seq[n-1] + seq[n-2])\n",
        "    return ', '.join([str(x) for x in seq])"
      ]
    },
    {
      "cell_type": "code",
      "execution_count": null,
      "metadata": {},
      "outputs": [],
      "source": [
        "fibber(20)"
      ]
    },
    {
      "attachments": {},
      "cell_type": "markdown",
      "metadata": {},
      "source": [
        "## Aside: A General Sequence Function\n",
        "\n",
        "Recursive functions are often used to produce mathematical sequences, but since they have limits on depth, they are of limited use for this purpose.\n",
        "\n",
        "Here is a function that can combine many sequences using two sequence parameters:\n",
        "* The initial state of the sequence, represented as the list `seq`.\n",
        "  * For example, in the Fibonacci sequence, seq is `[1, 1, 2]`\n",
        "* The function to apply to the sequence at each iteration, represneted as a `lambda` function with the arguments `x` and `i` for the the sequence list `seq` and the iteration number respectively.\n",
        "  * For example, in the Fibonacci sequence the kernel function is `lambda x, i: x[i-1] + x[i-2]`"
      ]
    },
    {
      "cell_type": "code",
      "execution_count": null,
      "metadata": {},
      "outputs": [],
      "source": [
        "##| tags: []\n",
        "def sequencer(n:int = 10, seq=[1, 1, 2], kernel=lambda x, i: x[i-1] + x[i-2]):\n",
        "    \"\"\"\n",
        "    Computes a Sequence using a for loop. \n",
        "    \n",
        "    Parameter n in integer which must be > 3. Defaults to 10.\n",
        "    Parameter seq is as list in the initial state of the sequence. Must have at least one value. Defaults to Fibonacci [1,1,2]\n",
        "    Parameter kernel is the kernel function applied to the series at each iteration. x stands for the seq list, i to the iteration number. Defaults to lambda x, i: x[i-1] + x[i-2]\n",
        "    \n",
        "    Returns a string as a comma-limited series.\n",
        "    \"\"\"\n",
        "    \n",
        "    for i in range(len(seq), n): seq.append(kernel(seq, i))\n",
        "    return ', '.join([str(x) for x in seq])"
      ]
    },
    {
      "cell_type": "code",
      "execution_count": null,
      "metadata": {},
      "outputs": [],
      "source": [
        "n = 8"
      ]
    },
    {
      "cell_type": "code",
      "execution_count": null,
      "metadata": {},
      "outputs": [],
      "source": [
        "%time sequencer(n, [0], lambda x, i: i)"
      ]
    },
    {
      "attachments": {},
      "cell_type": "markdown",
      "metadata": {},
      "source": [
        "**The series of positive integers**"
      ]
    },
    {
      "cell_type": "code",
      "execution_count": null,
      "metadata": {},
      "outputs": [],
      "source": [
        "sequencer(n, [1], lambda x, i: x[i-1] + 1)"
      ]
    },
    {
      "attachments": {},
      "cell_type": "markdown",
      "metadata": {},
      "source": [
        "**The series of even numbers**"
      ]
    },
    {
      "cell_type": "code",
      "execution_count": null,
      "metadata": {},
      "outputs": [],
      "source": [
        "sequencer(n, [2], lambda x, i: x[i-1] + 2)"
      ]
    },
    {
      "attachments": {},
      "cell_type": "markdown",
      "metadata": {},
      "source": [
        "**The series of odd numbers**"
      ]
    },
    {
      "cell_type": "code",
      "execution_count": null,
      "metadata": {},
      "outputs": [],
      "source": [
        "sequencer(n, [1], lambda x, i: x[i-1] + 2)"
      ]
    },
    {
      "attachments": {},
      "cell_type": "markdown",
      "metadata": {},
      "source": [
        "**The series of Fibonacci numbers**"
      ]
    },
    {
      "cell_type": "code",
      "execution_count": null,
      "metadata": {},
      "outputs": [],
      "source": [
        "sequencer(n, [1,1,2], lambda x, i: x[i-1] + x[i-2])"
      ]
    },
    {
      "attachments": {},
      "cell_type": "markdown",
      "metadata": {},
      "source": [
        "**The series of Squares**"
      ]
    },
    {
      "cell_type": "code",
      "execution_count": null,
      "metadata": {},
      "outputs": [],
      "source": [
        "sequencer(n, [2], lambda x, i: x[i-1]**2)"
      ]
    }
  ],
  "metadata": {
    "kernelspec": {
      "display_name": "Python 3 (ipykernel)",
      "language": "python",
      "name": "python3"
    }
  },
  "nbformat": 4,
  "nbformat_minor": 4
}
