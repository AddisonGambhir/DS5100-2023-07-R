{
  "cells": [
    {
      "attachments": {},
      "cell_type": "markdown",
      "metadata": {},
      "source": [
        "# NB: GGPlot in Python with Plotnine\n",
        "\n",
        "## GGPlot in Python\n",
        "\n",
        "There are two ports of GGPlot2 to Python: `pygg` and `plotnine`.\n",
        "\n",
        "The first seems to have stopped development and is much less used.\n",
        "\n",
        "Let's look at Plotnine."
      ]
    },
    {
      "cell_type": "code",
      "execution_count": null,
      "metadata": {},
      "outputs": [],
      "source": [
        "## ! conda install -c conda-forge plotnine -y"
      ]
    },
    {
      "cell_type": "code",
      "execution_count": null,
      "metadata": {},
      "outputs": [],
      "source": [
        "import pandas as pd\n",
        "import numpy as np\n",
        "from pandas.api.types import CategoricalDtype"
      ]
    },
    {
      "cell_type": "code",
      "execution_count": null,
      "metadata": {},
      "outputs": [],
      "source": [
        "from plotnine import *\n",
        "from plotnine.data import mpg"
      ]
    },
    {
      "attachments": {},
      "cell_type": "markdown",
      "metadata": {},
      "source": [
        "Our old friend, `mpg` in Python:"
      ]
    },
    {
      "cell_type": "code",
      "execution_count": null,
      "metadata": {},
      "outputs": [],
      "source": [
        "mpg"
      ]
    },
    {
      "attachments": {},
      "cell_type": "markdown",
      "metadata": {},
      "source": [
        "## A Simple Bar Chart"
      ]
    },
    {
      "cell_type": "code",
      "execution_count": null,
      "metadata": {},
      "outputs": [],
      "source": [
        "(ggplot(mpg)            # defining what data to use\n",
        "    + aes(x='class')    # defining what variable to use\n",
        "    + geom_bar(size=20) # defining the type of plot to use\n",
        ")"
      ]
    },
    {
      "attachments": {},
      "cell_type": "markdown",
      "metadata": {},
      "source": [
        "Notice that `aes()` is not a helper function (a function in the argument space).\n",
        "\n",
        "Also, R dots become `_` in the argument names.\n",
        "\n",
        "Note that we don't have to use the syntax above, which groups the functions in a single expression with `(...)`.\n",
        "\n",
        "We can do this:"
      ]
    },
    {
      "cell_type": "code",
      "execution_count": null,
      "metadata": {},
      "outputs": [],
      "source": [
        "ggplot(mpg) + aes(x='class') + geom_bar(size=20)"
      ]
    },
    {
      "attachments": {},
      "cell_type": "markdown",
      "metadata": {},
      "source": [
        "Or this:"
      ]
    },
    {
      "cell_type": "code",
      "execution_count": null,
      "metadata": {},
      "outputs": [],
      "source": [
        "ggplot(mpg) + \\\n",
        "    aes(x='class') + \\\n",
        "    geom_bar(size=20)"
      ]
    },
    {
      "attachments": {},
      "cell_type": "markdown",
      "metadata": {},
      "source": [
        "Note that none of these are like R due to differing white space rules.\n",
        "\n",
        "## Faceting"
      ]
    },
    {
      "cell_type": "code",
      "execution_count": null,
      "metadata": {},
      "outputs": [],
      "source": [
        "ggplot(mpg) + \\\n",
        "    aes(x = 'drv', y = 'cty', color = 'class', size='cyl') + \\\n",
        "    geom_point()"
      ]
    },
    {
      "cell_type": "code",
      "execution_count": null,
      "metadata": {},
      "outputs": [],
      "source": [
        "(ggplot(mpg)         \n",
        " + aes(x='drv', y='cty', color='class', size='cyl')\n",
        " + geom_point()\n",
        " + facet_wrap('class')\n",
        " + theme(legend_position = \"none\")\n",
        ")"
      ]
    },
    {
      "attachments": {},
      "cell_type": "markdown",
      "metadata": {},
      "source": [
        "## The Pandas Way\n",
        "\n",
        "Note the GGPlot included the computation of counts in the `geom_bar()` function."
      ]
    },
    {
      "cell_type": "code",
      "execution_count": null,
      "metadata": {},
      "outputs": [],
      "source": [
        "mpg['class'].value_counts().sort_index().plot.bar(rot=45)"
      ]
    },
    {
      "attachments": {},
      "cell_type": "markdown",
      "metadata": {},
      "source": [
        "However, sometomes Pandas *does* do internal calculations, as with `.hist()`:"
      ]
    },
    {
      "cell_type": "code",
      "execution_count": null,
      "metadata": {},
      "outputs": [],
      "source": [
        "mpg['cty'].hist()"
      ]
    },
    {
      "attachments": {},
      "cell_type": "markdown",
      "metadata": {},
      "source": [
        "For **faceting in Pandas**, see this: https://stackoverflow.com/questions/29786227/how-do-i-plot-facet-plots-in-pandas\n",
        "\n",
        "Notice that it is essentially the result of a `.groupby()` followed by `.unstack()`.\n",
        "\n",
        "So, Pandas expects you to do the data transformations upfront.\n",
        "\n",
        "GGPlot2 will handle these in the geometries and facets\n",
        "\n",
        "GGPlot2 is easier, but Pandas separates comcerns\n",
        "\n",
        "**As a rule, data operations should never take place in the visualization**.\n"
      ]
    }
  ],
  "metadata": {
    "kernelspec": {
      "display_name": "Python 3 (ipykernel)",
      "language": "python",
      "name": "python3"
    }
  },
  "nbformat": 4,
  "nbformat_minor": 4
}
