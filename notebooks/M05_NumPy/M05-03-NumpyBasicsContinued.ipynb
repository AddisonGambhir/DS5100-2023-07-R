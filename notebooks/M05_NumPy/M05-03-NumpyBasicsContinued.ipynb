{
  "cells": [
    {
      "attachments": {},
      "cell_type": "markdown",
      "metadata": {},
      "source": [
        "# NB: NumPy Continued\n",
        "\n"
      ]
    },
    {
      "attachments": {},
      "cell_type": "markdown",
      "metadata": {},
      "source": [
        "## Quick Refresher on Shape\n",
        "\n",
        "The **shape** of an array is represented a **tuple**, e.g. `(n, m)` for a 2D array.\n",
        "\n",
        "* The **length** of the tuple is number of **dimensions** (i.e. axes).\n",
        "* The **values** of the tuple are the number of **elements** in each dimension (axis).\n",
        "\n",
        "Consider the array `foo`:"
      ]
    },
    {
      "cell_type": "code",
      "execution_count": null,
      "metadata": {},
      "outputs": [],
      "source": [
        "import numpy as np"
      ]
    },
    {
      "cell_type": "code",
      "execution_count": null,
      "metadata": {},
      "outputs": [],
      "source": [
        "foo = np.ones((6,4))"
      ]
    },
    {
      "cell_type": "code",
      "execution_count": null,
      "metadata": {},
      "outputs": [],
      "source": [
        "foo"
      ]
    },
    {
      "attachments": {},
      "cell_type": "markdown",
      "metadata": {},
      "source": [
        "It was created with the $2$ dimensions.\n",
        "* The first dimension, axis 0, has $6$ elements. In this case, these elements are arrays.\n",
        "* The second dimension, axis 1, has $4$ elements. Its elements are scalars (numbers in this case).\n",
        "\n",
        "The shape of `foo[0]` is $4$. It contains $1$ axis with $4$ elements."
      ]
    },
    {
      "cell_type": "code",
      "execution_count": null,
      "metadata": {},
      "outputs": [],
      "source": [
        "foo[0], foo[0].shape"
      ]
    },
    {
      "attachments": {},
      "cell_type": "markdown",
      "metadata": {},
      "source": []
    },
    {
      "attachments": {},
      "cell_type": "markdown",
      "metadata": {},
      "source": [
        "It has a shape of $1$ and not $4 \\times 1$ because it is a vector, not a matrix.\n",
        "\n",
        "**SO, there is a difference between a vector and a 1-column matrix.**\n",
        "\n",
        "### Reshaping\n",
        "\n",
        "If we want to make it into a 1-column matrix, we need to reshape it using `np.reshape()`.\n",
        "\n",
        "Note that the first value of the shape argument is $-1$. This means use the length of the vector that is passed to it. "
      ]
    },
    {
      "cell_type": "code",
      "execution_count": null,
      "metadata": {},
      "outputs": [],
      "source": [
        "## np.reshape?"
      ]
    },
    {
      "cell_type": "code",
      "execution_count": null,
      "metadata": {},
      "outputs": [],
      "source": [
        "foo2 = np.reshape(foo[0], (-1, 1))"
      ]
    },
    {
      "cell_type": "code",
      "execution_count": null,
      "metadata": {},
      "outputs": [],
      "source": [
        "foo2, foo2.shape"
      ]
    },
    {
      "attachments": {},
      "cell_type": "markdown",
      "metadata": {},
      "source": [
        "When indexing an array, think of the **positions** of the comma-delimitted tuple as the axis.  \n",
        "\n",
        "The **values** are the **element offsets** in the containing array. The"
      ]
    },
    {
      "cell_type": "code",
      "execution_count": null,
      "metadata": {},
      "outputs": [],
      "source": [
        "foo[2:, 2:]\n",
        "##   ^   ^ \n",
        "##   0   1  <- AXIS NUMBER"
      ]
    },
    {
      "attachments": {},
      "cell_type": "markdown",
      "metadata": {},
      "source": [
        "### Use Case\n",
        "\n",
        "Sometimes, you need to convert vectors into 1-column matrices to make certain linear algebraic functions work.\n",
        "\n",
        "Consider two random variables, $x$ and $y$. "
      ]
    },
    {
      "cell_type": "code",
      "execution_count": null,
      "metadata": {},
      "outputs": [],
      "source": [
        "x = np.random.randn(100)\n",
        "y = np.random.randn(100)"
      ]
    },
    {
      "attachments": {},
      "cell_type": "markdown",
      "metadata": {},
      "source": [
        "We can fit a regression line using the **normal equation**, which appears in this week's homework.\n",
        "\n",
        "$\\begin{aligned} \\hat\\beta_i=(x^Tx)^{−1}x^Ty \\end{aligned}$ \n",
        "\n",
        "Here is a standward way of expressing it in NumPy:"
      ]
    },
    {
      "cell_type": "code",
      "execution_count": null,
      "metadata": {},
      "outputs": [],
      "source": [
        "get_beta1 = lambda x, y: (np.linalg.inv(x.T.dot(x))) * (x.T.dot(y))"
      ]
    },
    {
      "attachments": {},
      "cell_type": "markdown",
      "metadata": {},
      "source": [
        "However, it will fail if we pass it our two variables, `x` and `y`.\n",
        "\n",
        "The reason is that it expects `x` to be a matrix, since it is designed to handle n-dimension predictor variables, usually represented as $\\textbf{X}$. "
      ]
    },
    {
      "cell_type": "code",
      "execution_count": null,
      "metadata": {},
      "outputs": [],
      "source": [
        "get_beta1(x, y)"
      ]
    },
    {
      "attachments": {},
      "cell_type": "markdown",
      "metadata": {},
      "source": [
        "The revised function will work with a vector as `x`:\n",
        "\n",
        "$\\hat\\beta_i = \\large\\frac{1}{x^Tx} \\small(x^Ty)$"
      ]
    },
    {
      "cell_type": "code",
      "execution_count": null,
      "metadata": {},
      "outputs": [],
      "source": [
        "get_beta2 = lambda x, y: (1 / x.T.dot(x)) * (x.T.dot(y))"
      ]
    },
    {
      "cell_type": "code",
      "execution_count": null,
      "metadata": {},
      "outputs": [],
      "source": [
        "get_beta2(x, y)"
      ]
    },
    {
      "attachments": {},
      "cell_type": "markdown",
      "metadata": {},
      "source": [
        "We can fix the problem in the general case by converting our vector into a matrix using `np.reshape()`."
      ]
    },
    {
      "cell_type": "code",
      "execution_count": null,
      "metadata": {},
      "outputs": [],
      "source": [
        "x_as_matrix = np.reshape(x, (-1, 1))"
      ]
    },
    {
      "cell_type": "code",
      "execution_count": null,
      "metadata": {},
      "outputs": [],
      "source": [
        "get_beta1(x_as_matrix, y)"
      ]
    },
    {
      "cell_type": "code",
      "execution_count": null,
      "metadata": {},
      "outputs": [],
      "source": [
        "get_beta1(x_as_matrix, y)[0][0]"
      ]
    },
    {
      "cell_type": "code",
      "execution_count": null,
      "metadata": {},
      "outputs": [],
      "source": [
        "get_beta1(x_as_matrix, y)[0][0] == get_beta2(x, y)"
      ]
    },
    {
      "cell_type": "code",
      "execution_count": null,
      "metadata": {},
      "outputs": [],
      "source": [
        "## np.linalg.inv(x.T.dot(x).reshape((-1,1)))"
      ]
    },
    {
      "cell_type": "code",
      "execution_count": null,
      "metadata": {},
      "outputs": [],
      "source": [
        "## 1 / x.T.dot(x)"
      ]
    },
    {
      "attachments": {},
      "cell_type": "markdown",
      "metadata": {},
      "source": [
        "## Array-Oriented Programming\n",
        "\n",
        "Using NumPy arrays enables you to express many kinds of data processing tasks as concise array expressions **without writing loops**. \n",
        "\n",
        "This practice of **replacing explicit loops with array expressions** is referred to by some people as **vectorization**. \n",
        "\n",
        "Vectorized array operations are often significantly **faster** than their pure Python equivalents.\n",
        "\n",
        "They are also **visually concise and elegant**, although loops have the virtue of visualizing what's under the hood in an algorithm.\n",
        "\n",
        "## Expressing Conditional Logic as Array Operations\n",
        "\n",
        "### `np.where()`\n",
        "\n",
        "The `np.where` function is a vectorized version of the ternary expression `x if condition else y`. \n",
        "\n",
        "Suppose we had a boolean array and two arrays of values:"
      ]
    },
    {
      "cell_type": "code",
      "execution_count": null,
      "metadata": {},
      "outputs": [],
      "source": [
        "##| collapsed: false\n",
        "##| jupyter: {outputs_hidden: false}\n",
        "xarr = np.array([1.1, 1.2, 1.3, 1.4, 1.5])\n",
        "yarr = np.array([2.1, 2.2, 2.3, 2.4, 2.5])\n",
        "cond = np.array([True, False, True, True, False])"
      ]
    },
    {
      "cell_type": "code",
      "execution_count": null,
      "metadata": {},
      "outputs": [],
      "source": [
        "##| collapsed: false\n",
        "##| jupyter: {outputs_hidden: false}\n",
        "result = [(x if c else y) for x, y, c in zip(xarr, yarr, cond)]"
      ]
    },
    {
      "cell_type": "code",
      "execution_count": null,
      "metadata": {},
      "outputs": [],
      "source": [
        "##| collapsed: false\n",
        "##| jupyter: {outputs_hidden: false}\n",
        "result"
      ]
    },
    {
      "attachments": {},
      "cell_type": "markdown",
      "metadata": {},
      "source": [
        "Here is the vectorized version:"
      ]
    },
    {
      "cell_type": "code",
      "execution_count": null,
      "metadata": {},
      "outputs": [],
      "source": [
        "##| collapsed: false\n",
        "##| jupyter: {outputs_hidden: false}\n",
        "result = np.where(cond, xarr, yarr)"
      ]
    },
    {
      "cell_type": "code",
      "execution_count": null,
      "metadata": {},
      "outputs": [],
      "source": [
        "##| collapsed: false\n",
        "##| jupyter: {outputs_hidden: false}\n",
        "result"
      ]
    },
    {
      "cell_type": "code",
      "execution_count": null,
      "metadata": {},
      "outputs": [],
      "source": [
        "##| collapsed: false\n",
        "##| jupyter: {outputs_hidden: false}\n",
        "arr = np.random.randn(4, 4)"
      ]
    },
    {
      "cell_type": "code",
      "execution_count": null,
      "metadata": {},
      "outputs": [],
      "source": [
        "##| collapsed: false\n",
        "##| jupyter: {outputs_hidden: false}\n",
        "arr"
      ]
    },
    {
      "cell_type": "code",
      "execution_count": null,
      "metadata": {},
      "outputs": [],
      "source": [
        "##| collapsed: false\n",
        "##| jupyter: {outputs_hidden: false}\n",
        "arr > 0"
      ]
    },
    {
      "cell_type": "code",
      "execution_count": null,
      "metadata": {},
      "outputs": [],
      "source": [
        "##| collapsed: false\n",
        "##| jupyter: {outputs_hidden: false}\n",
        "np.where(arr > 0, 2, -2)"
      ]
    },
    {
      "cell_type": "code",
      "execution_count": null,
      "metadata": {},
      "outputs": [],
      "source": [
        "##| collapsed: false\n",
        "##| jupyter: {outputs_hidden: false}\n",
        "np.where(arr > 0, 2, arr) # set only positive values to 2"
      ]
    },
    {
      "attachments": {},
      "cell_type": "markdown",
      "metadata": {},
      "source": [
        "## Mathematical and Statistical Methods\n",
        "\n",
        "Statistical computations are aggregate functions apply to vectors within an array.\n",
        "\n",
        "In a 2D array, they can be applied to rows or columns, i.e. **axis $0$ or axis $1$**.\n",
        "\n",
        "Let's create an array of random values. We can think of it is a table of observations and random variables."
      ]
    },
    {
      "cell_type": "code",
      "execution_count": null,
      "metadata": {},
      "outputs": [],
      "source": [
        "##| collapsed: false\n",
        "##| jupyter: {outputs_hidden: false}\n",
        "arr = np.random.randn(5, 4)"
      ]
    },
    {
      "cell_type": "code",
      "execution_count": null,
      "metadata": {},
      "outputs": [],
      "source": [
        "##| collapsed: false\n",
        "##| jupyter: {outputs_hidden: false}\n",
        "arr"
      ]
    },
    {
      "attachments": {},
      "cell_type": "markdown",
      "metadata": {},
      "source": [
        "### `.mean()`"
      ]
    },
    {
      "cell_type": "code",
      "execution_count": null,
      "metadata": {},
      "outputs": [],
      "source": [
        "##| collapsed: false\n",
        "##| jupyter: {outputs_hidden: false}\n",
        "arr.mean()"
      ]
    },
    {
      "cell_type": "code",
      "execution_count": null,
      "metadata": {},
      "outputs": [],
      "source": [
        "##| collapsed: false\n",
        "##| jupyter: {outputs_hidden: false}\n",
        "np.mean(arr)"
      ]
    },
    {
      "cell_type": "code",
      "execution_count": null,
      "metadata": {},
      "outputs": [],
      "source": [
        "arr.mean(axis=1)"
      ]
    },
    {
      "cell_type": "code",
      "execution_count": null,
      "metadata": {},
      "outputs": [],
      "source": [
        "arr.mean(axis=0)"
      ]
    },
    {
      "attachments": {},
      "cell_type": "markdown",
      "metadata": {},
      "source": [
        "### `.sum()`"
      ]
    },
    {
      "cell_type": "code",
      "execution_count": null,
      "metadata": {},
      "outputs": [],
      "source": [
        "##| collapsed: false\n",
        "##| jupyter: {outputs_hidden: false}\n",
        "arr.sum()"
      ]
    },
    {
      "attachments": {},
      "cell_type": "markdown",
      "metadata": {},
      "source": [
        "Row wise aggregration"
      ]
    },
    {
      "cell_type": "code",
      "execution_count": null,
      "metadata": {},
      "outputs": [],
      "source": [
        "##| collapsed: false\n",
        "##| jupyter: {outputs_hidden: false}\n",
        "arr.sum(axis=0)"
      ]
    },
    {
      "cell_type": "code",
      "execution_count": null,
      "metadata": {},
      "outputs": [],
      "source": [
        "##| collapsed: false\n",
        "##| jupyter: {outputs_hidden: false}\n",
        "arr.mean(axis=1)"
      ]
    },
    {
      "attachments": {},
      "cell_type": "markdown",
      "metadata": {},
      "source": [
        "Column-wise aggregration\n",
        "\n",
        "### `.cumsum()`"
      ]
    },
    {
      "cell_type": "code",
      "execution_count": null,
      "metadata": {},
      "outputs": [],
      "source": [
        "##| collapsed: false\n",
        "##| jupyter: {outputs_hidden: false}\n",
        "arr = np.array([0, 1, 2, 3, 4, 5, 6, 7])"
      ]
    },
    {
      "cell_type": "code",
      "execution_count": null,
      "metadata": {},
      "outputs": [],
      "source": [
        "##| collapsed: false\n",
        "##| jupyter: {outputs_hidden: false}\n",
        "arr.cumsum()"
      ]
    },
    {
      "cell_type": "code",
      "execution_count": null,
      "metadata": {},
      "outputs": [],
      "source": [
        "##| collapsed: false\n",
        "##| jupyter: {outputs_hidden: false}\n",
        "arr = np.array([[0, 1, 2], [3, 4, 5], [6, 7, 8]])"
      ]
    },
    {
      "cell_type": "code",
      "execution_count": null,
      "metadata": {},
      "outputs": [],
      "source": [
        "##| collapsed: false\n",
        "##| jupyter: {outputs_hidden: false}\n",
        "arr"
      ]
    },
    {
      "cell_type": "code",
      "execution_count": null,
      "metadata": {},
      "outputs": [],
      "source": [
        "##| collapsed: false\n",
        "##| jupyter: {outputs_hidden: false}\n",
        "arr.cumsum(axis=0)"
      ]
    },
    {
      "cell_type": "code",
      "execution_count": null,
      "metadata": {},
      "outputs": [],
      "source": [
        "##| collapsed: false\n",
        "##| jupyter: {outputs_hidden: false}\n",
        "arr.cumprod(axis=1)"
      ]
    },
    {
      "attachments": {},
      "cell_type": "markdown",
      "metadata": {},
      "source": [
        "## Methods for Boolean Arrays\n",
        "\n",
        "### `.sum()`\n",
        "\n",
        "Since booleans are $0$s and $1$, we can sum them to get a total truth count."
      ]
    },
    {
      "cell_type": "code",
      "execution_count": null,
      "metadata": {},
      "outputs": [],
      "source": [
        "##| collapsed: false\n",
        "##| jupyter: {outputs_hidden: false}\n",
        "arr = np.random.randn(100)\n",
        "(arr > 0).sum() # Number of positive values"
      ]
    },
    {
      "cell_type": "code",
      "execution_count": null,
      "metadata": {},
      "outputs": [],
      "source": [
        "##| collapsed: false\n",
        "##| jupyter: {outputs_hidden: false}\n",
        "bools = np.array([False, False, True, False])"
      ]
    },
    {
      "attachments": {},
      "cell_type": "markdown",
      "metadata": {},
      "source": [
        "### `.any()`"
      ]
    },
    {
      "cell_type": "code",
      "execution_count": null,
      "metadata": {},
      "outputs": [],
      "source": [
        "##| collapsed: false\n",
        "##| jupyter: {outputs_hidden: false}\n",
        "bools.any()"
      ]
    },
    {
      "attachments": {},
      "cell_type": "markdown",
      "metadata": {},
      "source": [
        "### `.all()`"
      ]
    },
    {
      "cell_type": "code",
      "execution_count": null,
      "metadata": {},
      "outputs": [],
      "source": [
        "##| collapsed: false\n",
        "##| jupyter: {outputs_hidden: false}\n",
        "bools.all()"
      ]
    },
    {
      "attachments": {},
      "cell_type": "markdown",
      "metadata": {},
      "source": [
        "## Sorting \n",
        "\n",
        "### `.sort()`"
      ]
    },
    {
      "cell_type": "code",
      "execution_count": null,
      "metadata": {},
      "outputs": [],
      "source": [
        "##| collapsed: false\n",
        "##| jupyter: {outputs_hidden: false}\n",
        "arr = np.random.randn(6)"
      ]
    },
    {
      "cell_type": "code",
      "execution_count": null,
      "metadata": {},
      "outputs": [],
      "source": [
        "##| collapsed: false\n",
        "##| jupyter: {outputs_hidden: false}\n",
        "arr"
      ]
    },
    {
      "cell_type": "code",
      "execution_count": null,
      "metadata": {},
      "outputs": [],
      "source": [
        "##| collapsed: false\n",
        "##| jupyter: {outputs_hidden: false}\n",
        "arr.sort()"
      ]
    },
    {
      "cell_type": "code",
      "execution_count": null,
      "metadata": {},
      "outputs": [],
      "source": [
        "##| collapsed: false\n",
        "##| jupyter: {outputs_hidden: false}\n",
        "arr"
      ]
    },
    {
      "cell_type": "code",
      "execution_count": null,
      "metadata": {},
      "outputs": [],
      "source": [
        "##| collapsed: false\n",
        "##| jupyter: {outputs_hidden: false}\n",
        "arr = np.random.randn(5, 3)"
      ]
    },
    {
      "cell_type": "code",
      "execution_count": null,
      "metadata": {},
      "outputs": [],
      "source": [
        "##| collapsed: false\n",
        "##| jupyter: {outputs_hidden: false}\n",
        "arr"
      ]
    },
    {
      "cell_type": "code",
      "execution_count": null,
      "metadata": {},
      "outputs": [],
      "source": [
        "##| collapsed: false\n",
        "##| jupyter: {outputs_hidden: false}\n",
        "arr.sort(1)"
      ]
    },
    {
      "cell_type": "code",
      "execution_count": null,
      "metadata": {},
      "outputs": [],
      "source": [
        "##| collapsed: false\n",
        "##| jupyter: {outputs_hidden: false}\n",
        "arr"
      ]
    },
    {
      "cell_type": "code",
      "execution_count": null,
      "metadata": {},
      "outputs": [],
      "source": [
        "##| collapsed: false\n",
        "##| jupyter: {outputs_hidden: false}\n",
        "large_arr = np.random.randn(1000)\n",
        "large_arr.sort()\n",
        "large_arr[int(0.05 * len(large_arr))] # 5% quantile"
      ]
    },
    {
      "cell_type": "code",
      "execution_count": null,
      "metadata": {},
      "outputs": [],
      "source": [
        "##| collapsed: false\n",
        "##| jupyter: {outputs_hidden: false}\n",
        "0.05 * len(large_arr)"
      ]
    },
    {
      "attachments": {},
      "cell_type": "markdown",
      "metadata": {},
      "source": [
        "## Unique and Other Set Logic\n",
        "\n",
        "### `np.unique()`"
      ]
    },
    {
      "cell_type": "code",
      "execution_count": null,
      "metadata": {},
      "outputs": [],
      "source": [
        "##| collapsed: false\n",
        "##| jupyter: {outputs_hidden: false}\n",
        "names = np.array(['Bob', 'Joe', 'Will', 'Bob', 'Will', 'Joe', 'Joe'])\n",
        "np.unique(names)"
      ]
    },
    {
      "cell_type": "code",
      "execution_count": null,
      "metadata": {},
      "outputs": [],
      "source": [
        "##| collapsed: false\n",
        "##| jupyter: {outputs_hidden: false}\n",
        "sorted(set(names))"
      ]
    },
    {
      "cell_type": "code",
      "execution_count": null,
      "metadata": {},
      "outputs": [],
      "source": [
        "##| collapsed: false\n",
        "##| jupyter: {outputs_hidden: false}\n",
        "ints = np.array([3, 3, 3, 2, 2, 1, 1, 4, 4])\n",
        "np.unique(ints)"
      ]
    },
    {
      "attachments": {},
      "cell_type": "markdown",
      "metadata": {},
      "source": [
        "### `np.in1d()`\n",
        "\n",
        "Tests whether each element of a 1-D array is also present in a second array."
      ]
    },
    {
      "cell_type": "code",
      "execution_count": null,
      "metadata": {},
      "outputs": [],
      "source": [
        "##| collapsed: false\n",
        "##| jupyter: {outputs_hidden: false}\n",
        "values = np.array([6, 0, 0, 3, 2, 5, 6])\n",
        "np.in1d(values, [2, 3, 6])"
      ]
    },
    {
      "attachments": {},
      "cell_type": "markdown",
      "metadata": {},
      "source": [
        "## File Input and Output with Arrays\n",
        "\n",
        "### `np.save()`\n",
        "\n",
        "Save an array to a binary file in NumPy ``.npy`` format.\n",
        "\n",
        "Automatically adds the `.npy` file extension."
      ]
    },
    {
      "cell_type": "code",
      "execution_count": null,
      "metadata": {},
      "outputs": [],
      "source": [
        "##| collapsed: false\n",
        "##| jupyter: {outputs_hidden: false}\n",
        "arr = np.arange(10)\n",
        "np.save('some_array', arr)"
      ]
    },
    {
      "attachments": {},
      "cell_type": "markdown",
      "metadata": {},
      "source": [
        "### `np.load()`"
      ]
    },
    {
      "cell_type": "code",
      "execution_count": null,
      "metadata": {},
      "outputs": [],
      "source": [
        "##| collapsed: false\n",
        "##| jupyter: {outputs_hidden: false}\n",
        "np.load('some_array.npy')"
      ]
    },
    {
      "attachments": {},
      "cell_type": "markdown",
      "metadata": {},
      "source": [
        "### `np.savetxt()`\n",
        "\n",
        "Save an array to a text file."
      ]
    },
    {
      "cell_type": "code",
      "execution_count": null,
      "metadata": {},
      "outputs": [],
      "source": [
        "## np.savetxt?"
      ]
    },
    {
      "cell_type": "code",
      "execution_count": null,
      "metadata": {},
      "outputs": [],
      "source": [
        "np.savetxt('some_array.txt', arr)"
      ]
    },
    {
      "cell_type": "code",
      "execution_count": null,
      "metadata": {},
      "outputs": [],
      "source": [
        "## !more some_array.txt"
      ]
    },
    {
      "attachments": {},
      "cell_type": "markdown",
      "metadata": {},
      "source": [
        "### `np.savez()`\n",
        "\n",
        "Save several arrays into a single file in uncompressed ``.npz`` format."
      ]
    },
    {
      "cell_type": "code",
      "execution_count": null,
      "metadata": {},
      "outputs": [],
      "source": [
        "##| collapsed: false\n",
        "##| jupyter: {outputs_hidden: false}\n",
        "np.savez('array_archive.npz', a=arr, b=arr)"
      ]
    },
    {
      "cell_type": "code",
      "execution_count": null,
      "metadata": {},
      "outputs": [],
      "source": [
        "##| collapsed: false\n",
        "##| jupyter: {outputs_hidden: false}\n",
        "arch = np.load('array_archive.npz')\n",
        "arch['b']"
      ]
    },
    {
      "cell_type": "code",
      "execution_count": null,
      "metadata": {},
      "outputs": [],
      "source": [
        "##| collapsed: false\n",
        "##| jupyter: {outputs_hidden: false}\n",
        "np.savez_compressed('arrays_compressed.npz', a=arr, b=arr)"
      ]
    },
    {
      "attachments": {},
      "cell_type": "markdown",
      "metadata": {},
      "source": [
        "Clean up ..."
      ]
    },
    {
      "cell_type": "code",
      "execution_count": null,
      "metadata": {},
      "outputs": [],
      "source": [
        "##| collapsed: false\n",
        "##| jupyter: {outputs_hidden: false}\n",
        "!rm some_array.npy\n",
        "!rm some_array.txt\n",
        "!rm array_archive.npz\n",
        "!rm arrays_compressed.npz"
      ]
    },
    {
      "attachments": {},
      "cell_type": "markdown",
      "metadata": {},
      "source": [
        "## Linear Algebra\n",
        "\n",
        "### `.dot()`\n",
        "\n",
        "Dot product of two arrays. Specifically,\n",
        "- If both `a` and `b` are 1-D arrays, it is inner product of vectors\n",
        "  (without complex conjugation).\n",
        "- If both `a` and `b` are 2-D arrays, it is matrix multiplication,\n",
        "  but using `matmul()` or `a @ b` is preferred.\n",
        "- If either `a` or `b` is 0-D (scalar), it is equivalent to `multiply()`\n",
        "  and using ``numpy.multiply(a, b)`` or ``a * b`` is preferred.\n",
        "- If `a` is an N-D array and `b` is a 1-D array, it is a sum product over\n",
        "  the last axis of `a` and `b`.\n",
        "- If `a` is an N-D array and `b` is an M-D array (where `M>=2`), it is a\n",
        "  sum product over the last axis of `a` and the second-to-last axis of `b`:\n",
        "  \n",
        "```\n",
        "    dot(a, b)[i,j,k,m] = sum(a[i,j,:] * b[k,:,m])\n",
        "```"
      ]
    },
    {
      "cell_type": "code",
      "execution_count": null,
      "metadata": {},
      "outputs": [],
      "source": [
        "##| collapsed: false\n",
        "##| jupyter: {outputs_hidden: false}\n",
        "x = np.array([[1., 2., 3.], [4., 5., 6.]])\n",
        "y = np.array([[6., 23.], [-1, 7], [8, 9]])"
      ]
    },
    {
      "cell_type": "code",
      "execution_count": null,
      "metadata": {},
      "outputs": [],
      "source": [
        "##| collapsed: false\n",
        "##| jupyter: {outputs_hidden: false}\n",
        "x, y"
      ]
    },
    {
      "cell_type": "code",
      "execution_count": null,
      "metadata": {},
      "outputs": [],
      "source": [
        "##| collapsed: false\n",
        "##| jupyter: {outputs_hidden: false}\n",
        "y"
      ]
    },
    {
      "cell_type": "code",
      "execution_count": null,
      "metadata": {},
      "outputs": [],
      "source": [
        "##| collapsed: false\n",
        "##| jupyter: {outputs_hidden: false}\n",
        "x.dot(y)"
      ]
    },
    {
      "cell_type": "code",
      "execution_count": null,
      "metadata": {},
      "outputs": [],
      "source": [
        "##| collapsed: false\n",
        "##| jupyter: {outputs_hidden: false}\n",
        "np.dot(x, y)"
      ]
    },
    {
      "cell_type": "code",
      "execution_count": null,
      "metadata": {},
      "outputs": [],
      "source": [
        "##| collapsed: false\n",
        "##| jupyter: {outputs_hidden: false}\n",
        "np.dot(x, np.ones(3))"
      ]
    },
    {
      "attachments": {},
      "cell_type": "markdown",
      "metadata": {},
      "source": [
        "In NumPy, the `@` operator means [matrix multiplication](https://www.codingem.com/numpy-at-operator/)."
      ]
    },
    {
      "cell_type": "code",
      "execution_count": null,
      "metadata": {},
      "outputs": [],
      "source": [
        "##| collapsed: false\n",
        "##| jupyter: {outputs_hidden: false}\n",
        "x @ np.ones(3)"
      ]
    },
    {
      "attachments": {},
      "cell_type": "markdown",
      "metadata": {},
      "source": [
        "### `np.linalg.inv()`"
      ]
    },
    {
      "cell_type": "code",
      "execution_count": null,
      "metadata": {},
      "outputs": [],
      "source": [
        "##| collapsed: false\n",
        "##| jupyter: {outputs_hidden: false}\n",
        "from numpy.linalg import inv, qr\n",
        "X = np.random.randn(5, 5)\n",
        "mat = X.T.dot(X)\n",
        "inv(mat)"
      ]
    },
    {
      "cell_type": "code",
      "execution_count": null,
      "metadata": {},
      "outputs": [],
      "source": [
        "##| collapsed: false\n",
        "##| jupyter: {outputs_hidden: false}\n",
        "mat.dot(inv(mat))\n",
        "q, r = qr(mat)"
      ]
    },
    {
      "cell_type": "code",
      "execution_count": null,
      "metadata": {},
      "outputs": [],
      "source": [
        "##| collapsed: false\n",
        "##| jupyter: {outputs_hidden: false}\n",
        "r"
      ]
    },
    {
      "attachments": {},
      "cell_type": "markdown",
      "metadata": {},
      "source": [
        "## Pseudorandom Number Generation\n",
        "\n",
        "### `np.random.normal()`"
      ]
    },
    {
      "cell_type": "code",
      "execution_count": null,
      "metadata": {},
      "outputs": [],
      "source": [
        "##| collapsed: false\n",
        "##| jupyter: {outputs_hidden: false}\n",
        "samples = np.random.normal(size=(4, 4))\n",
        "samples"
      ]
    },
    {
      "cell_type": "code",
      "execution_count": null,
      "metadata": {},
      "outputs": [],
      "source": [
        "##| collapsed: false\n",
        "##| jupyter: {outputs_hidden: false}\n",
        "from random import normalvariate\n",
        "N = 1000000\n",
        "%timeit samples = [normalvariate(0, 1) for _ in range(N)]\n",
        "%timeit np.random.normal(size=N)"
      ]
    },
    {
      "cell_type": "code",
      "execution_count": null,
      "metadata": {},
      "outputs": [],
      "source": [
        "##| collapsed: false\n",
        "##| jupyter: {outputs_hidden: false}\n",
        "np.random.seed(1234)"
      ]
    },
    {
      "cell_type": "code",
      "execution_count": null,
      "metadata": {},
      "outputs": [],
      "source": [
        "##| collapsed: false\n",
        "##| jupyter: {outputs_hidden: false}\n",
        "rng = np.random.RandomState(1234)"
      ]
    },
    {
      "cell_type": "code",
      "execution_count": null,
      "metadata": {},
      "outputs": [],
      "source": [
        "##| collapsed: false\n",
        "##| jupyter: {outputs_hidden: false}\n",
        "rng.randn(10)"
      ]
    },
    {
      "attachments": {},
      "cell_type": "markdown",
      "metadata": {},
      "source": [
        "### Example: Random Walks\n",
        "\n",
        "Let simulate a random walk. The walk will be represented as a vector.\n",
        "\n",
        "We'll do it first as loop, then with vectorization.\n",
        "\n",
        "**Loops**"
      ]
    },
    {
      "cell_type": "code",
      "execution_count": null,
      "metadata": {},
      "outputs": [],
      "source": [
        "##| collapsed: false\n",
        "##| jupyter: {outputs_hidden: false}\n",
        "import random\n",
        "position = 0\n",
        "walk = [position] # initialize the walk\n",
        "steps = 1000\n",
        "for i in range(steps):\n",
        "    step = 1 if random.randint(0, 1) else -1  # Coin toss\n",
        "    position += step\n",
        "    walk.append(position)"
      ]
    },
    {
      "cell_type": "code",
      "execution_count": null,
      "metadata": {},
      "outputs": [],
      "source": [
        "import matplotlib.pyplot as plt"
      ]
    },
    {
      "cell_type": "code",
      "execution_count": null,
      "metadata": {},
      "outputs": [],
      "source": [
        "##| collapsed: false\n",
        "##| jupyter: {outputs_hidden: false}\n",
        "plt.figure()\n",
        "plt.plot(walk[:100]);"
      ]
    },
    {
      "attachments": {},
      "cell_type": "markdown",
      "metadata": {},
      "source": [
        "**Vectors**"
      ]
    },
    {
      "cell_type": "code",
      "execution_count": null,
      "metadata": {},
      "outputs": [],
      "source": [
        "##| collapsed: false\n",
        "##| jupyter: {outputs_hidden: false}\n",
        "np.random.seed(12345)"
      ]
    },
    {
      "cell_type": "code",
      "execution_count": null,
      "metadata": {},
      "outputs": [],
      "source": [
        "##| collapsed: false\n",
        "##| jupyter: {outputs_hidden: false}\n",
        "nsteps = 1000\n",
        "draws = np.random.randint(0, 2, size=nsteps)\n",
        "steps = np.where(draws > 0, 1, -1)\n",
        "walk2 = steps.cumsum()"
      ]
    },
    {
      "cell_type": "code",
      "execution_count": null,
      "metadata": {},
      "outputs": [],
      "source": [
        "plt.plot(walk[:100]);"
      ]
    },
    {
      "cell_type": "code",
      "execution_count": null,
      "metadata": {},
      "outputs": [],
      "source": [
        "##| collapsed: false\n",
        "##| jupyter: {outputs_hidden: false}\n",
        "walk2.min(), walk2.max()"
      ]
    },
    {
      "attachments": {},
      "cell_type": "markdown",
      "metadata": {},
      "source": [
        "### Simulating Many Random Walks at Once"
      ]
    },
    {
      "cell_type": "code",
      "execution_count": null,
      "metadata": {},
      "outputs": [],
      "source": [
        "##| collapsed: false\n",
        "##| jupyter: {outputs_hidden: false}\n",
        "nwalks = 5000\n",
        "nsteps = 1000"
      ]
    },
    {
      "cell_type": "code",
      "execution_count": null,
      "metadata": {},
      "outputs": [],
      "source": [
        "##| collapsed: false\n",
        "##| jupyter: {outputs_hidden: false}\n",
        "draws = np.random.randint(0, 2, size=(nwalks, nsteps)) # 0 or 1\n",
        "steps = np.where(draws > 0, 1, -1)\n",
        "walks = steps.cumsum(1)"
      ]
    },
    {
      "cell_type": "code",
      "execution_count": null,
      "metadata": {},
      "outputs": [],
      "source": [
        "draws"
      ]
    },
    {
      "cell_type": "code",
      "execution_count": null,
      "metadata": {},
      "outputs": [],
      "source": [
        "##| collapsed: false\n",
        "##| jupyter: {outputs_hidden: false}\n",
        "walks"
      ]
    },
    {
      "cell_type": "code",
      "execution_count": null,
      "metadata": {},
      "outputs": [],
      "source": [
        "##| collapsed: false\n",
        "##| jupyter: {outputs_hidden: false}\n",
        "walks.max(), walks.min()"
      ]
    },
    {
      "cell_type": "code",
      "execution_count": null,
      "metadata": {},
      "outputs": [],
      "source": [
        "##| collapsed: false\n",
        "##| jupyter: {outputs_hidden: false}\n",
        "hits30 = (np.abs(walks) >= 30).any(1)\n",
        "hits30"
      ]
    },
    {
      "cell_type": "code",
      "execution_count": null,
      "metadata": {},
      "outputs": [],
      "source": [
        "##| collapsed: false\n",
        "##| jupyter: {outputs_hidden: false}\n",
        "hits30.sum() # Number that hit 30 or -30"
      ]
    },
    {
      "cell_type": "code",
      "execution_count": null,
      "metadata": {},
      "outputs": [],
      "source": [
        "##| collapsed: false\n",
        "##| jupyter: {outputs_hidden: false}\n",
        "crossing_times = (np.abs(walks[hits30]) >= 30).argmax(1)\n",
        "crossing_times.mean()"
      ]
    },
    {
      "cell_type": "code",
      "execution_count": null,
      "metadata": {},
      "outputs": [],
      "source": [
        "##| collapsed: false\n",
        "##| jupyter: {outputs_hidden: false}\n",
        "steps = np.random.normal(loc=0, scale=0.25, size=(nwalks, nsteps))"
      ]
    },
    {
      "attachments": {},
      "cell_type": "markdown",
      "metadata": {},
      "source": [
        "Feel free to experiment with other distributions for the steps other than equal-sized coin flips. You need only use a different random generator method, like standard_normal to generate normally distributed steps with some mean and standard deviation:"
      ]
    },
    {
      "cell_type": "code",
      "execution_count": null,
      "metadata": {},
      "outputs": [],
      "source": [
        "draws = 0.25 * rng.standard_normal((nwalks, nsteps)) # Walks: observations, Steps: features"
      ]
    },
    {
      "cell_type": "code",
      "execution_count": null,
      "metadata": {},
      "outputs": [],
      "source": [
        "sample_walk = np.random.choice(len(draws))\n",
        "plt.plot(draws[sample_walk])\n",
        "plt.title(f\"Walk #{sample_walk}\");"
      ]
    }
  ],
  "metadata": {
    "kernelspec": {
      "display_name": "Python 3 (ipykernel)",
      "language": "python",
      "name": "python3"
    }
  },
  "nbformat": 4,
  "nbformat_minor": 4
}
