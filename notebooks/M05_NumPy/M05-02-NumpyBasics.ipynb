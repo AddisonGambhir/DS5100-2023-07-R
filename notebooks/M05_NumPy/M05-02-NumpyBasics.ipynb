{
  "cells": [
    {
      "attachments": {},
      "cell_type": "markdown",
      "metadata": {},
      "source": [
        "# NB: NumPy First Steps\n"
      ]
    },
    {
      "attachments": {},
      "cell_type": "markdown",
      "metadata": {},
      "source": [
        "\n",
        "## NumPy\n",
        "\n",
        "**A new data structure**\n",
        "\n",
        "Essentially, NumPy introduces a new data structure to Python -- the **n-dimensional array**. Along with it, it introduces a collection of function and methods that take advantage of this data structure.\n",
        "\n",
        "The data structure is designed to support the use of **numerical methods**: algorithmic approximations to the problems of mathematical analysis.\n",
        "\n",
        "**New Functions**\n",
        "\n",
        "It also provides a new way of appling functions to day made possible by the data structure -- **vectorized functions**. Vectorized functions replace the use of loops and comprehensions to apply a function to a set of data. \n",
        "\n",
        "In addition, given the data structure, it provides a library of **linear algebra** functions. \n",
        "\n",
        "**New Data Types**\n",
        "\n",
        "NumPy also introduces a bunch of new **data types**.\n",
        "\n",
        "**Python for Science**\n",
        "\n",
        "Finally, because [numerical methods](https://www.britannica.com/science/numerical-analysis) are so important to so many sciences, NumPy is the basis of what is called **the scientific \"stack\"** in Python, which consists of SciPy, Matplotlib, SciKitLearn, and Pandas. All of these assume that you have some knowledge of NumPy.\n",
        "\n",
        "Let's take a look at it."
      ]
    },
    {
      "cell_type": "code",
      "execution_count": null,
      "metadata": {},
      "outputs": [],
      "source": [
        "import numpy as np"
      ]
    },
    {
      "attachments": {},
      "cell_type": "markdown",
      "metadata": {},
      "source": [
        "NumPy is by widespread convention aliased as `np`.\n",
        "\n",
        "## The ndarray\n",
        "\n",
        "The ndarray is a multidimensional array object.\n",
        "\n",
        "Let's explore it some. \n",
        "\n",
        "First, let's generate some fake data using NumPy's built-a random number generator."
      ]
    },
    {
      "cell_type": "code",
      "execution_count": null,
      "metadata": {},
      "outputs": [],
      "source": [
        "##| jupyter: {outputs_hidden: false}\n",
        "data = np.random.randn(2, 3)"
      ]
    },
    {
      "cell_type": "code",
      "execution_count": null,
      "metadata": {},
      "outputs": [],
      "source": [
        "##| jupyter: {outputs_hidden: false}\n",
        "data"
      ]
    },
    {
      "cell_type": "code",
      "execution_count": null,
      "metadata": {},
      "outputs": [],
      "source": [
        "##| jupyter: {outputs_hidden: false}\n",
        "data * 10"
      ]
    },
    {
      "cell_type": "code",
      "execution_count": null,
      "metadata": {},
      "outputs": [],
      "source": [
        "##| jupyter: {outputs_hidden: false}\n",
        "data + data"
      ]
    },
    {
      "cell_type": "code",
      "execution_count": null,
      "metadata": {},
      "outputs": [],
      "source": [
        "##| jupyter: {outputs_hidden: false}\n",
        "data.shape"
      ]
    },
    {
      "cell_type": "code",
      "execution_count": null,
      "metadata": {},
      "outputs": [],
      "source": [
        "##| jupyter: {outputs_hidden: false}\n",
        "data.dtype"
      ]
    },
    {
      "attachments": {},
      "cell_type": "markdown",
      "metadata": {},
      "source": [
        "### About Dimensions\n",
        "\n",
        "The term dimension is ambiguous.\n",
        "* Sometimes refers to the dimensions of things in the world, such as space and time.\n",
        "* Sometimes refers to the dimensions of a data structure, independent of what it represents in the world.\n",
        "\n",
        "NumPy dimensions are the latter, although they can be used to represent the former, as physicists do.\n",
        "\n",
        "The dimensions of data structures are sometimes called **axes**.\n",
        "\n",
        "Consider this: Three-dimensional space can be represented as three columns in a two-dimensional table OR as three axes in a data cube. \n",
        "\n",
        "## Creating ndarrays"
      ]
    },
    {
      "cell_type": "code",
      "execution_count": null,
      "metadata": {},
      "outputs": [],
      "source": [
        "##| jupyter: {outputs_hidden: false}\n",
        "data1 = [6, 7.5, 8, 0, 1]\n",
        "arr1 = np.array(data1)\n",
        "arr1"
      ]
    },
    {
      "cell_type": "code",
      "execution_count": null,
      "metadata": {},
      "outputs": [],
      "source": [
        "##| jupyter: {outputs_hidden: false}\n",
        "data2 = [[1, 2, 3, 4], [5, 6, 7, 8]]\n",
        "arr2 = np.array(data2)\n",
        "arr2"
      ]
    },
    {
      "cell_type": "code",
      "execution_count": null,
      "metadata": {},
      "outputs": [],
      "source": [
        "##| jupyter: {outputs_hidden: false}\n",
        "arr2.ndim"
      ]
    },
    {
      "cell_type": "code",
      "execution_count": null,
      "metadata": {},
      "outputs": [],
      "source": [
        "##| jupyter: {outputs_hidden: false}\n",
        "arr2.shape"
      ]
    },
    {
      "cell_type": "code",
      "execution_count": null,
      "metadata": {},
      "outputs": [],
      "source": [
        "##| jupyter: {outputs_hidden: false}\n",
        "arr1.dtype"
      ]
    },
    {
      "cell_type": "code",
      "execution_count": null,
      "metadata": {},
      "outputs": [],
      "source": [
        "##| jupyter: {outputs_hidden: false}\n",
        "arr2.dtype"
      ]
    },
    {
      "cell_type": "code",
      "execution_count": null,
      "metadata": {},
      "outputs": [],
      "source": [
        "##| jupyter: {outputs_hidden: false}\n",
        "np.zeros(10)"
      ]
    },
    {
      "cell_type": "code",
      "execution_count": null,
      "metadata": {},
      "outputs": [],
      "source": [
        "##| jupyter: {outputs_hidden: false}\n",
        "np.zeros((3, 6))"
      ]
    },
    {
      "cell_type": "code",
      "execution_count": null,
      "metadata": {},
      "outputs": [],
      "source": [
        "##| jupyter: {outputs_hidden: false}\n",
        "np.empty((2, 3, 2))"
      ]
    },
    {
      "cell_type": "code",
      "execution_count": null,
      "metadata": {},
      "outputs": [],
      "source": [
        "##| jupyter: {outputs_hidden: false}\n",
        "np.arange(15)"
      ]
    },
    {
      "attachments": {},
      "cell_type": "markdown",
      "metadata": {},
      "source": [
        "### Data Types for ndarrays\n",
        "\n",
        "**Unlike any of the previous data structures we have seen in Python, ndarrays must have a single data type associated with them.**"
      ]
    },
    {
      "cell_type": "code",
      "execution_count": null,
      "metadata": {},
      "outputs": [],
      "source": [
        "##| jupyter: {outputs_hidden: false}\n",
        "arr1 = np.array([1, 2, 3], dtype=np.float64)\n",
        "arr1.dtype"
      ]
    },
    {
      "cell_type": "code",
      "execution_count": null,
      "metadata": {},
      "outputs": [],
      "source": [
        "##| jupyter: {outputs_hidden: false}\n",
        "arr2 = np.array([1, 2, 3], dtype=np.int32)\n",
        "arr2.dtype"
      ]
    },
    {
      "cell_type": "code",
      "execution_count": null,
      "metadata": {},
      "outputs": [],
      "source": [
        "##| jupyter: {outputs_hidden: false}\n",
        "arr = np.array([1, 2, 3, 4, 5])\n",
        "arr.dtype"
      ]
    },
    {
      "cell_type": "code",
      "execution_count": null,
      "metadata": {},
      "outputs": [],
      "source": [
        "##| jupyter: {outputs_hidden: false}\n",
        "float_arr = arr.astype(np.float64)\n",
        "float_arr.dtype"
      ]
    },
    {
      "cell_type": "code",
      "execution_count": null,
      "metadata": {},
      "outputs": [],
      "source": [
        "##| jupyter: {outputs_hidden: false}\n",
        "arr = np.array([3.7, -1.2, -2.6, 0.5, 12.9, 10.1])\n",
        "arr"
      ]
    },
    {
      "cell_type": "code",
      "execution_count": null,
      "metadata": {},
      "outputs": [],
      "source": [
        "##| jupyter: {outputs_hidden: false}\n",
        "arr.astype(np.int32)"
      ]
    },
    {
      "cell_type": "code",
      "execution_count": null,
      "metadata": {},
      "outputs": [],
      "source": [
        "##| jupyter: {outputs_hidden: false}\n",
        "numeric_strings = np.array(['1.25', '-9.6', '42'], dtype=np.string_)\n",
        "numeric_strings.astype(float)"
      ]
    },
    {
      "cell_type": "code",
      "execution_count": null,
      "metadata": {},
      "outputs": [],
      "source": [
        "##| jupyter: {outputs_hidden: false}\n",
        "int_array = np.arange(10)\n",
        "calibers = np.array([.22, .270, .357, .380, .44, .50], dtype=np.float64)\n",
        "int_array.astype(calibers.dtype)"
      ]
    },
    {
      "cell_type": "code",
      "execution_count": null,
      "metadata": {},
      "outputs": [],
      "source": [
        "##| tags: []\n",
        "empty_uint32 = np.empty(8, dtype='u4')\n",
        "empty_uint32"
      ]
    },
    {
      "attachments": {},
      "cell_type": "markdown",
      "metadata": {},
      "source": [
        "**NumPy Data Types**\n",
        "\n",
        "```\n",
        "i - integer\n",
        "b - boolean\n",
        "u - unsigned integer\n",
        "f - float\n",
        "c - complex float\n",
        "m - timedelta\n",
        "M - datetime\n",
        "O - object\n",
        "S - string\n",
        "U - unicode string\n",
        "V - fixed chunk of memory for other type ( void )\n",
        "```\n",
        "\n",
        "### Arithmetic"
      ]
    },
    {
      "cell_type": "code",
      "execution_count": null,
      "metadata": {},
      "outputs": [],
      "source": [
        "##| jupyter: {outputs_hidden: false}\n",
        "arr = np.array([[1., 2., 3.], [4., 5., 6.]])\n",
        "arr"
      ]
    },
    {
      "cell_type": "code",
      "execution_count": null,
      "metadata": {},
      "outputs": [],
      "source": [
        "arr.shape"
      ]
    },
    {
      "cell_type": "code",
      "execution_count": null,
      "metadata": {},
      "outputs": [],
      "source": [
        "##| jupyter: {outputs_hidden: false}\n",
        "arr * arr"
      ]
    },
    {
      "cell_type": "code",
      "execution_count": null,
      "metadata": {},
      "outputs": [],
      "source": [
        "##| jupyter: {outputs_hidden: false}\n",
        "arr - arr"
      ]
    },
    {
      "cell_type": "code",
      "execution_count": null,
      "metadata": {},
      "outputs": [],
      "source": [
        "##| jupyter: {outputs_hidden: false}\n",
        "1 / arr"
      ]
    },
    {
      "cell_type": "code",
      "execution_count": null,
      "metadata": {},
      "outputs": [],
      "source": [
        "##| jupyter: {outputs_hidden: false}\n",
        "arr ** 0.5"
      ]
    },
    {
      "cell_type": "code",
      "execution_count": null,
      "metadata": {},
      "outputs": [],
      "source": [
        "##| jupyter: {outputs_hidden: false}\n",
        "arr2 = np.array([[0., 4., 1.], [7., 2., 12.]])\n",
        "arr2"
      ]
    },
    {
      "cell_type": "code",
      "execution_count": null,
      "metadata": {},
      "outputs": [],
      "source": [
        "##| jupyter: {outputs_hidden: false}\n",
        "arr2 > arr"
      ]
    },
    {
      "attachments": {},
      "cell_type": "markdown",
      "metadata": {},
      "source": [
        "## Basic Indexing and Slicing"
      ]
    },
    {
      "cell_type": "code",
      "execution_count": null,
      "metadata": {},
      "outputs": [],
      "source": [
        "foo = np.zeros((4,6))\n",
        "foo.shape\n",
        "foo[2:,:1].shape"
      ]
    },
    {
      "cell_type": "code",
      "execution_count": null,
      "metadata": {},
      "outputs": [],
      "source": [
        "##| jupyter: {outputs_hidden: false}\n",
        "arr = np.arange(10)\n",
        "arr"
      ]
    },
    {
      "cell_type": "code",
      "execution_count": null,
      "metadata": {},
      "outputs": [],
      "source": [
        "##| jupyter: {outputs_hidden: false}\n",
        "arr[5]"
      ]
    },
    {
      "cell_type": "code",
      "execution_count": null,
      "metadata": {},
      "outputs": [],
      "source": [
        "##| jupyter: {outputs_hidden: false}\n",
        "arr[5:8]"
      ]
    },
    {
      "cell_type": "code",
      "execution_count": null,
      "metadata": {},
      "outputs": [],
      "source": [
        "##| jupyter: {outputs_hidden: false}\n",
        "arr[5:8] = 12"
      ]
    },
    {
      "cell_type": "code",
      "execution_count": null,
      "metadata": {},
      "outputs": [],
      "source": [
        "##| jupyter: {outputs_hidden: false}\n",
        "arr"
      ]
    },
    {
      "attachments": {},
      "cell_type": "markdown",
      "metadata": {},
      "source": [
        "Notice that if we assign a scalar to a slice, all of the elements of the slice get that value. This is called **broadcasting**.\n",
        "\n",
        "Also, notice that changes to slices are changes to the arrays they are slices of. They are **views**, not copies. "
      ]
    },
    {
      "cell_type": "code",
      "execution_count": null,
      "metadata": {},
      "outputs": [],
      "source": [
        "##| jupyter: {outputs_hidden: false}\n",
        "arr_slice = arr[5:8]\n",
        "arr_slice"
      ]
    },
    {
      "cell_type": "code",
      "execution_count": null,
      "metadata": {},
      "outputs": [],
      "source": [
        "##| jupyter: {outputs_hidden: false}\n",
        "arr_slice[1] = 12345\n",
        "arr"
      ]
    },
    {
      "cell_type": "code",
      "execution_count": null,
      "metadata": {},
      "outputs": [],
      "source": [
        "##| jupyter: {outputs_hidden: false}\n",
        "arr_slice[:] = 64\n",
        "arr"
      ]
    },
    {
      "cell_type": "code",
      "execution_count": null,
      "metadata": {},
      "outputs": [],
      "source": [
        "arr_slice"
      ]
    },
    {
      "attachments": {},
      "cell_type": "markdown",
      "metadata": {},
      "source": [
        "As NumPy has been designed with large data use cases in mind, you could imagine performance and memory problems if NumPy insisted on copying data left and right.\n",
        "\n",
        "⭐ If you want a copy of a slice of an ndarray instead of a view, you will need to explicitly copy the array; for example `arr[5:8].copy()`.\n",
        "\n",
        "**Higher Dimensional Arrays**"
      ]
    },
    {
      "cell_type": "code",
      "execution_count": null,
      "metadata": {},
      "outputs": [],
      "source": [
        "##| jupyter: {outputs_hidden: false}\n",
        "arr2d = np.array([[1, 2, 3], [4, 5, 6], [7, 8, 9]])"
      ]
    },
    {
      "cell_type": "code",
      "execution_count": null,
      "metadata": {},
      "outputs": [],
      "source": [
        "##| jupyter: {outputs_hidden: false}\n",
        "arr2d[2]"
      ]
    },
    {
      "cell_type": "code",
      "execution_count": null,
      "metadata": {},
      "outputs": [],
      "source": [
        "##| jupyter: {outputs_hidden: false}\n",
        "arr2d[0][2]"
      ]
    },
    {
      "attachments": {},
      "cell_type": "markdown",
      "metadata": {},
      "source": [
        "**Simplified notation**"
      ]
    },
    {
      "cell_type": "code",
      "execution_count": null,
      "metadata": {},
      "outputs": [],
      "source": [
        "##| jupyter: {outputs_hidden: false}\n",
        "arr2d[0, 2]"
      ]
    },
    {
      "attachments": {},
      "cell_type": "markdown",
      "metadata": {},
      "source": [
        "A nice visual of a 2D array\n",
        "\n",
        "<img src=\"https://learning.oreilly.com/api/v2/epubs/urn:orm:book:9781449323592/files/httpatomoreillycomsourceoreillyimages2172112.png\" height=\"50%\" width=\"50%\"/>\n",
        "\n",
        "**Two-Demensional Array Slicing**\n",
        "\n",
        "<img src=\"https://learning.oreilly.com/api/v2/epubs/urn:orm:book:9781449323592/files/httpatomoreillycomsourceoreillyimages2172114.png\" height=\"50%\" width=\"50%\"/>\n",
        "\n",
        "**3D arrays**"
      ]
    },
    {
      "cell_type": "code",
      "execution_count": null,
      "metadata": {},
      "outputs": [],
      "source": [
        "##| jupyter: {outputs_hidden: false}\n",
        "arr3d = np.array([[[1, 2, 3], [4, 5, 6]], [[7, 8, 9], [10, 11, 12]]])"
      ]
    },
    {
      "cell_type": "code",
      "execution_count": null,
      "metadata": {},
      "outputs": [],
      "source": [
        "arr3d.shape"
      ]
    },
    {
      "cell_type": "code",
      "execution_count": null,
      "metadata": {},
      "outputs": [],
      "source": [
        "##| jupyter: {outputs_hidden: false}\n",
        "arr3d"
      ]
    },
    {
      "attachments": {},
      "cell_type": "markdown",
      "metadata": {},
      "source": [
        "If find NumPy's way of show the data a bit difficult to parse visually.\n",
        "\n",
        "💡 **Here is a way to visualize 3 and higher dimensional data:**\n",
        "\n",
        "```python\n",
        "[ # AXIS 0                     CONTAINS 2 ELEMENTS (arrays)\n",
        "    [ # AXIS 1                 CONTAINS 2 ELEMENTS (arrays)\n",
        "        [1, 2, 3], # AXIS 3    CONTAINS 3 ELEMENTS (integers)\n",
        "        [4, 5, 6]  # AXIS 3\n",
        "    ],  \n",
        "    [ # AXIS 1\n",
        "        [7, 8, 9], \n",
        "        [10, 11, 12]\n",
        "    ]\n",
        "]\n",
        "```\n",
        "Each axis is a level in the nested hierarchy, i.e. a tree or DAG (directed-acyclic graph).\n",
        "\n",
        "* Each axis is a container.\n",
        "* There is only one top container.\n",
        "* Only the bottom containers have data.\n",
        "\n",
        "**Omit lower indices**\n",
        "\n",
        "In multidimensional arrays, if you omit later indices, the returned object will be a **lower-dimensional ndarray** consisting of all the data contained by the higher indexed dimension. \n",
        "\n",
        "So in the 2 × 2 × 3 array `arr3d`:"
      ]
    },
    {
      "cell_type": "code",
      "execution_count": null,
      "metadata": {},
      "outputs": [],
      "source": [
        "##| jupyter: {outputs_hidden: false}\n",
        "arr3d[0]"
      ]
    },
    {
      "attachments": {},
      "cell_type": "markdown",
      "metadata": {},
      "source": [
        "Saving data before modifying an array."
      ]
    },
    {
      "cell_type": "code",
      "execution_count": null,
      "metadata": {},
      "outputs": [],
      "source": [
        "##| jupyter: {outputs_hidden: false}\n",
        "old_values = arr3d[0].copy()\n",
        "arr3d[0] = 42\n",
        "arr3d"
      ]
    },
    {
      "attachments": {},
      "cell_type": "markdown",
      "metadata": {},
      "source": [
        "Putting the data back."
      ]
    },
    {
      "cell_type": "code",
      "execution_count": null,
      "metadata": {},
      "outputs": [],
      "source": [
        "##| jupyter: {outputs_hidden: false}\n",
        "arr3d[0] = old_values\n",
        "arr3d"
      ]
    },
    {
      "attachments": {},
      "cell_type": "markdown",
      "metadata": {},
      "source": [
        "Similarly, `arr3d[1, 0]` gives you all of the values whose indices start with (1, 0), forming a 1-dimensional array:"
      ]
    },
    {
      "cell_type": "code",
      "execution_count": null,
      "metadata": {},
      "outputs": [],
      "source": [
        "##| jupyter: {outputs_hidden: false}\n",
        "arr3d[1, 0]"
      ]
    },
    {
      "cell_type": "code",
      "execution_count": null,
      "metadata": {},
      "outputs": [],
      "source": [
        "##| jupyter: {outputs_hidden: false}\n",
        "x = arr3d[1]\n",
        "x"
      ]
    },
    {
      "cell_type": "code",
      "execution_count": null,
      "metadata": {},
      "outputs": [],
      "source": [
        "##| jupyter: {outputs_hidden: false}\n",
        "x[0]"
      ]
    },
    {
      "attachments": {},
      "cell_type": "markdown",
      "metadata": {},
      "source": [
        "### Indexing with slices"
      ]
    },
    {
      "cell_type": "code",
      "execution_count": null,
      "metadata": {},
      "outputs": [],
      "source": [
        "##| jupyter: {outputs_hidden: false}\n",
        "arr"
      ]
    },
    {
      "cell_type": "code",
      "execution_count": null,
      "metadata": {},
      "outputs": [],
      "source": [
        "##| jupyter: {outputs_hidden: false}\n",
        "arr[1:6]"
      ]
    },
    {
      "cell_type": "code",
      "execution_count": null,
      "metadata": {},
      "outputs": [],
      "source": [
        "##| jupyter: {outputs_hidden: false}\n",
        "arr2d"
      ]
    },
    {
      "cell_type": "code",
      "execution_count": null,
      "metadata": {},
      "outputs": [],
      "source": [
        "##| jupyter: {outputs_hidden: false}\n",
        "arr2d[:2]"
      ]
    },
    {
      "cell_type": "code",
      "execution_count": null,
      "metadata": {},
      "outputs": [],
      "source": [
        "##| jupyter: {outputs_hidden: false}\n",
        "arr2d[:2, 1:]"
      ]
    },
    {
      "cell_type": "code",
      "execution_count": null,
      "metadata": {},
      "outputs": [],
      "source": [
        "##| jupyter: {outputs_hidden: false}\n",
        "arr2d[1, :2]"
      ]
    },
    {
      "cell_type": "code",
      "execution_count": null,
      "metadata": {},
      "outputs": [],
      "source": [
        "##| jupyter: {outputs_hidden: false}\n",
        "arr2d[:2, 2]"
      ]
    },
    {
      "cell_type": "code",
      "execution_count": null,
      "metadata": {},
      "outputs": [],
      "source": [
        "##| jupyter: {outputs_hidden: false}\n",
        "arr2d[:, :1]"
      ]
    },
    {
      "cell_type": "code",
      "execution_count": null,
      "metadata": {},
      "outputs": [],
      "source": [
        "##| jupyter: {outputs_hidden: false}\n",
        "arr2d[:2, 1:] = 0\n",
        "arr2d"
      ]
    },
    {
      "attachments": {},
      "cell_type": "markdown",
      "metadata": {},
      "source": [
        "### Boolean Indexing\n",
        "\n",
        "This a crucial topic -- it applies to Pandas and R. \n",
        "\n",
        "You can pass a boolean representation of an array to the array indexer (i.e. `[]`) and it will return only those cells that are `True`.\n",
        "\n",
        "This is like replace `IF` statements with a `dict`.\n",
        "\n",
        "Let's assume that we have two related arrays:\n",
        "* `names` which is the rows (observations) of a table\n",
        "* `data` which holds the data associated with each feature\n",
        "\n",
        "There are $7$ observations and $4$ features."
      ]
    },
    {
      "cell_type": "code",
      "execution_count": null,
      "metadata": {},
      "outputs": [],
      "source": [
        "##| jupyter: {outputs_hidden: false}\n",
        "names = np.array(['Bob', 'Joe', 'Will', 'Bob', 'Will', 'Joe', 'Joe'])\n",
        "names"
      ]
    },
    {
      "cell_type": "code",
      "execution_count": null,
      "metadata": {},
      "outputs": [],
      "source": [
        "##| jupyter: {outputs_hidden: false}\n",
        "data = np.random.randn(7, 4)\n",
        "data"
      ]
    },
    {
      "cell_type": "code",
      "execution_count": null,
      "metadata": {},
      "outputs": [],
      "source": [
        "names.shape, data.shape"
      ]
    },
    {
      "attachments": {},
      "cell_type": "markdown",
      "metadata": {},
      "source": [
        "A comparison operation in an array returns an array of booleans."
      ]
    },
    {
      "cell_type": "code",
      "execution_count": null,
      "metadata": {},
      "outputs": [],
      "source": [
        "##| jupyter: {outputs_hidden: false}\n",
        "names == 'Bob'"
      ]
    },
    {
      "attachments": {},
      "cell_type": "markdown",
      "metadata": {},
      "source": [
        "This array can be passed to an array indexer:"
      ]
    },
    {
      "cell_type": "code",
      "execution_count": null,
      "metadata": {},
      "outputs": [],
      "source": [
        "##| jupyter: {outputs_hidden: false}\n",
        "data[names == 'Bob']"
      ]
    },
    {
      "attachments": {},
      "cell_type": "markdown",
      "metadata": {},
      "source": [
        "Along the second axis, we can use a slice to select data."
      ]
    },
    {
      "cell_type": "code",
      "execution_count": null,
      "metadata": {},
      "outputs": [],
      "source": [
        "##| jupyter: {outputs_hidden: false}\n",
        "data[names == 'Bob', 2:]"
      ]
    },
    {
      "cell_type": "code",
      "execution_count": null,
      "metadata": {},
      "outputs": [],
      "source": [
        "##| jupyter: {outputs_hidden: false}\n",
        "data[names == 'Bob', 3]"
      ]
    },
    {
      "attachments": {},
      "cell_type": "markdown",
      "metadata": {},
      "source": [
        "If you know SQL, this is like the query:\n",
        "\n",
        "```sql\n",
        "SELECT col3, col4 FROM data WHERE name = 'Bob'\n",
        "```\n",
        "\n",
        "Here are some examples of boolean operations being applied.\n",
        "\n",
        "Note that we don't use `not` but instead the tilde `~` sign to negate (flip) a value."
      ]
    },
    {
      "cell_type": "code",
      "execution_count": null,
      "metadata": {},
      "outputs": [],
      "source": [
        "##| jupyter: {outputs_hidden: false}\n",
        "names != 'Bob'\n",
        "data[~(names == 'Bob')]"
      ]
    },
    {
      "cell_type": "code",
      "execution_count": null,
      "metadata": {},
      "outputs": [],
      "source": [
        "##| jupyter: {outputs_hidden: false}\n",
        "cond = names == 'Bob'\n",
        "data[~cond]"
      ]
    },
    {
      "attachments": {},
      "cell_type": "markdown",
      "metadata": {},
      "source": [
        "Similarly, we don't use `and` and `or` but `&` and `|`.\n",
        "\n",
        "Also, expressions join by these operators need to be in parentheses."
      ]
    },
    {
      "cell_type": "code",
      "execution_count": null,
      "metadata": {},
      "outputs": [],
      "source": [
        "##| jupyter: {outputs_hidden: false}\n",
        "mask = (names == 'Bob') | (names == 'Will')\n",
        "mask\n",
        "data[mask]"
      ]
    },
    {
      "cell_type": "code",
      "execution_count": null,
      "metadata": {},
      "outputs": [],
      "source": [
        "##| jupyter: {outputs_hidden: false}\n",
        "data[data < 0] = 0\n",
        "data"
      ]
    },
    {
      "cell_type": "code",
      "execution_count": null,
      "metadata": {},
      "outputs": [],
      "source": [
        "##| jupyter: {outputs_hidden: false}\n",
        "data[names != 'Joe'] = 7\n",
        "data"
      ]
    },
    {
      "attachments": {},
      "cell_type": "markdown",
      "metadata": {},
      "source": [
        "### Fancy Indexing\n",
        "\n",
        "In so-call fancy indexing, we use array index numbers to access data.\n",
        "\n",
        "We pass a `list` of item numbers, instead of an integer or integer range with `:`, to the indexer."
      ]
    },
    {
      "cell_type": "code",
      "execution_count": null,
      "metadata": {},
      "outputs": [],
      "source": [
        "##| jupyter: {outputs_hidden: false}\n",
        "arr = np.empty((8, 4))\n",
        "for i in range(8):\n",
        "    arr[i] = i\n",
        "arr"
      ]
    },
    {
      "attachments": {},
      "cell_type": "markdown",
      "metadata": {},
      "source": [
        "This says: _Select rows 4, 3, 0, and 6, in that order._"
      ]
    },
    {
      "cell_type": "code",
      "execution_count": null,
      "metadata": {},
      "outputs": [],
      "source": [
        "##| jupyter: {outputs_hidden: false}\n",
        "arr[[4, 3, 0, 6]]"
      ]
    },
    {
      "attachments": {},
      "cell_type": "markdown",
      "metadata": {},
      "source": [
        "And we can go backwards."
      ]
    },
    {
      "cell_type": "code",
      "execution_count": null,
      "metadata": {},
      "outputs": [],
      "source": [
        "##| jupyter: {outputs_hidden: false}\n",
        "arr[[-3, -5, -7]]"
      ]
    },
    {
      "cell_type": "code",
      "execution_count": null,
      "metadata": {},
      "outputs": [],
      "source": [
        "##| jupyter: {outputs_hidden: false}\n",
        "arr = np.arange(32).reshape((8, 4))\n",
        "arr"
      ]
    },
    {
      "attachments": {},
      "cell_type": "markdown",
      "metadata": {},
      "source": [
        "We can drop these lists into each axis seletor."
      ]
    },
    {
      "cell_type": "code",
      "execution_count": null,
      "metadata": {},
      "outputs": [],
      "source": [
        "##| jupyter: {outputs_hidden: false}\n",
        "arr[[1, 5, 7, 2], [0, 3, 1, 2]]"
      ]
    },
    {
      "cell_type": "code",
      "execution_count": null,
      "metadata": {},
      "outputs": [],
      "source": [
        "##| jupyter: {outputs_hidden: false}\n",
        "arr[[1, 5, 7, 2]][:, [0, 3, 1, 2]]"
      ]
    },
    {
      "attachments": {},
      "cell_type": "markdown",
      "metadata": {},
      "source": [
        "### Transposing Arrays and Swapping Axes\n",
        "\n",
        "Transposing is a special form of reshaping which similarly returns a view on the underlying data without copying anything. \n",
        "\n",
        "Arrays have the transpose method and also the special `T` attribute:"
      ]
    },
    {
      "cell_type": "code",
      "execution_count": null,
      "metadata": {},
      "outputs": [],
      "source": [
        "##| jupyter: {outputs_hidden: false}\n",
        "arr = np.arange(15).reshape((3, 5))\n",
        "arr"
      ]
    },
    {
      "cell_type": "code",
      "execution_count": null,
      "metadata": {},
      "outputs": [],
      "source": [
        "##| jupyter: {outputs_hidden: false}\n",
        "arr.T"
      ]
    },
    {
      "attachments": {},
      "cell_type": "markdown",
      "metadata": {},
      "source": [
        "Transposing is often used when computing the dot product between two arrays.\n",
        "\n",
        "Here's an example."
      ]
    },
    {
      "cell_type": "code",
      "execution_count": null,
      "metadata": {},
      "outputs": [],
      "source": [
        "##| jupyter: {outputs_hidden: false}\n",
        "arr = np.random.randn(6, 3)\n",
        "arr"
      ]
    },
    {
      "cell_type": "code",
      "execution_count": null,
      "metadata": {},
      "outputs": [],
      "source": [
        "##| jupyter: {outputs_hidden: false}\n",
        "np.dot(arr.T, arr)"
      ]
    },
    {
      "attachments": {},
      "cell_type": "markdown",
      "metadata": {},
      "source": [
        "For higher dimensional arrays, `transpose` will accept a tuple of axis numbers to permute the axes.\n",
        "\n",
        "Warning -- this can get confusing to conceptualize and visualize!"
      ]
    },
    {
      "cell_type": "code",
      "execution_count": null,
      "metadata": {},
      "outputs": [],
      "source": [
        "##| jupyter: {outputs_hidden: false}\n",
        "arr = np.arange(16).reshape((2, 2, 4))\n",
        "arr"
      ]
    },
    {
      "cell_type": "code",
      "execution_count": null,
      "metadata": {},
      "outputs": [],
      "source": [
        "##| jupyter: {outputs_hidden: false}\n",
        "arr.transpose((1, 0, 2))"
      ]
    },
    {
      "attachments": {},
      "cell_type": "markdown",
      "metadata": {},
      "source": [
        "Simple transposing with `.T` is just a special case of swapping axes. ndarray has the method `swapaxes` which takes a pair of axis numbers:"
      ]
    },
    {
      "cell_type": "code",
      "execution_count": null,
      "metadata": {},
      "outputs": [],
      "source": [
        "##| jupyter: {outputs_hidden: false}\n",
        "arr"
      ]
    },
    {
      "cell_type": "code",
      "execution_count": null,
      "metadata": {},
      "outputs": [],
      "source": [
        "##| jupyter: {outputs_hidden: false}\n",
        "arr.swapaxes(1, 2)"
      ]
    },
    {
      "attachments": {},
      "cell_type": "markdown",
      "metadata": {},
      "source": [
        "## Universal Functions\n",
        "\n",
        "A universal function, or `ufunc`, is a function that performs elementwise operations on data in ndarrays. You can think of them as **fast vectorized wrappers for simple functions** that take one or more scalar values and produce one or more scalar results.\n",
        "\n",
        "Many `ufuncs` are simple elementwise transformations, like `sqrt` or `exp`:"
      ]
    },
    {
      "cell_type": "code",
      "execution_count": null,
      "metadata": {},
      "outputs": [],
      "source": [
        "##| jupyter: {outputs_hidden: false}\n",
        "arr = np.arange(10)\n",
        "arr"
      ]
    },
    {
      "cell_type": "code",
      "execution_count": null,
      "metadata": {},
      "outputs": [],
      "source": [
        "##| jupyter: {outputs_hidden: false}\n",
        "np.sqrt(arr)"
      ]
    },
    {
      "cell_type": "code",
      "execution_count": null,
      "metadata": {},
      "outputs": [],
      "source": [
        "##| jupyter: {outputs_hidden: false}\n",
        "np.exp(arr)"
      ]
    },
    {
      "cell_type": "code",
      "execution_count": null,
      "metadata": {},
      "outputs": [],
      "source": [
        "##| jupyter: {outputs_hidden: false}\n",
        "x = np.random.randn(8)\n",
        "x"
      ]
    },
    {
      "cell_type": "code",
      "execution_count": null,
      "metadata": {},
      "outputs": [],
      "source": [
        "##| jupyter: {outputs_hidden: false}\n",
        "y = np.random.randn(8)\n",
        "y"
      ]
    },
    {
      "cell_type": "code",
      "execution_count": null,
      "metadata": {},
      "outputs": [],
      "source": [
        "##| jupyter: {outputs_hidden: false}\n",
        "np.maximum(x, y)"
      ]
    },
    {
      "cell_type": "code",
      "execution_count": null,
      "metadata": {},
      "outputs": [],
      "source": [
        "##| jupyter: {outputs_hidden: false}\n",
        "arr = np.random.randn(7) * 5\n",
        "arr"
      ]
    },
    {
      "cell_type": "code",
      "execution_count": null,
      "metadata": {},
      "outputs": [],
      "source": [
        "##| jupyter: {outputs_hidden: false}\n",
        "remainder, whole_part = np.modf(arr)\n",
        "remainder"
      ]
    },
    {
      "cell_type": "code",
      "execution_count": null,
      "metadata": {},
      "outputs": [],
      "source": [
        "##| jupyter: {outputs_hidden: false}\n",
        "whole_part"
      ]
    },
    {
      "cell_type": "code",
      "execution_count": null,
      "metadata": {},
      "outputs": [],
      "source": [
        "##| jupyter: {outputs_hidden: false}\n",
        "arr"
      ]
    },
    {
      "cell_type": "code",
      "execution_count": null,
      "metadata": {},
      "outputs": [],
      "source": [
        "##| jupyter: {outputs_hidden: false}\n",
        "np.sqrt(arr)"
      ]
    },
    {
      "cell_type": "code",
      "execution_count": null,
      "metadata": {},
      "outputs": [],
      "source": [
        "##| jupyter: {outputs_hidden: false}\n",
        "np.sqrt(arr, arr)"
      ]
    },
    {
      "cell_type": "code",
      "execution_count": null,
      "metadata": {},
      "outputs": [],
      "source": [
        "##| jupyter: {outputs_hidden: false}\n",
        "arr"
      ]
    },
    {
      "attachments": {},
      "cell_type": "markdown",
      "metadata": {},
      "source": [
        "`nan` is a special value in NumPy.\n"
      ]
    }
  ],
  "metadata": {
    "kernelspec": {
      "display_name": "Python 3 (ipykernel)",
      "language": "python",
      "name": "python3"
    }
  },
  "nbformat": 4,
  "nbformat_minor": 4
}
