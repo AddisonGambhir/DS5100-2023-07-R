{
  "cells": [
    {
      "attachments": {},
      "cell_type": "markdown",
      "metadata": {},
      "source": [
        "# NB: More on Classes and Globals"
      ]
    },
    {
      "attachments": {},
      "cell_type": "markdown",
      "metadata": {},
      "source": [
        "## Class and Globals\n",
        "\n",
        "We experiment to see if classes can see the globals of their surrounding environment.\n",
        "\n",
        "We already know that functions can."
      ]
    },
    {
      "cell_type": "code",
      "execution_count": null,
      "metadata": {},
      "outputs": [],
      "source": [
        "class Test:\n",
        "    \n",
        "    # x has not been declared within the class \n",
        "    # or any of its methods\n",
        "    \n",
        "    def static_test():\n",
        "        print(x)\n",
        "        \n",
        "    def method_test(self):\n",
        "        print(x)"
      ]
    },
    {
      "cell_type": "code",
      "execution_count": null,
      "metadata": {},
      "outputs": [],
      "source": [
        "x = 5"
      ]
    },
    {
      "cell_type": "code",
      "execution_count": null,
      "metadata": {},
      "outputs": [],
      "source": [
        "try:\n",
        "    Test.static_test()\n",
        "except NameError as e:\n",
        "    print(e)"
      ]
    },
    {
      "cell_type": "code",
      "execution_count": null,
      "metadata": {},
      "outputs": [],
      "source": [
        "t = Test()"
      ]
    },
    {
      "cell_type": "code",
      "execution_count": null,
      "metadata": {},
      "outputs": [],
      "source": [
        "try:\n",
        "    t.method_test()\n",
        "except NameError as e:\n",
        "    print(e)"
      ]
    },
    {
      "attachments": {},
      "cell_type": "markdown",
      "metadata": {},
      "source": [
        "So, global variables are **also visible within classes**.\n",
        "\n",
        "The class can see the globals, even though `x` was defined after the class definition.\n",
        "\n",
        "So, **the class learns about its environment when it is called**, not defined.\n",
        "\n",
        "But what about imported classes and functions?\n",
        "\n",
        "## Try with Imports\n",
        "\n",
        "We import the file `test.py`, which contains this code:\n",
        "\n",
        "```python\n",
        "y = 15\n",
        "\n",
        "def imported_function_test():\n",
        "    print(x)\n",
        "\n",
        "def imported_function_test_y():\n",
        "    print(y)\n",
        "    \n",
        "class ImportedTest:\n",
        "    \n",
        "    def imported_static_test():\n",
        "        print(x)\n",
        "    \n",
        "    def imported_method_test(self):\n",
        "        print(x)\n",
        "        \n",
        "    def imported_static_test_y():\n",
        "        print(y)\n",
        "    \n",
        "    def imported_method_test_y(self):\n",
        "        print(y)\n",
        "```"
      ]
    },
    {
      "cell_type": "code",
      "execution_count": null,
      "metadata": {},
      "outputs": [],
      "source": [
        "from test import *"
      ]
    },
    {
      "attachments": {},
      "cell_type": "markdown",
      "metadata": {},
      "source": [
        "### Imported Function"
      ]
    },
    {
      "cell_type": "code",
      "execution_count": null,
      "metadata": {},
      "outputs": [],
      "source": [
        "try:\n",
        "    imported_function_test()\n",
        "except NameError as e:\n",
        "    print(e)"
      ]
    },
    {
      "cell_type": "code",
      "execution_count": null,
      "metadata": {},
      "outputs": [],
      "source": [
        "try:\n",
        "    imported_function_test_y()\n",
        "except NameError as e:\n",
        "    print(e)"
      ]
    },
    {
      "attachments": {},
      "cell_type": "markdown",
      "metadata": {},
      "source": [
        "### Imported Static Method"
      ]
    },
    {
      "cell_type": "code",
      "execution_count": null,
      "metadata": {},
      "outputs": [],
      "source": [
        "try:\n",
        "    ImportedTest.imported_static_test()\n",
        "except NameError as e:\n",
        "    print(e)"
      ]
    },
    {
      "cell_type": "code",
      "execution_count": null,
      "metadata": {},
      "outputs": [],
      "source": [
        "try:\n",
        "    ImportedTest.imported_static_test_y()\n",
        "except NameError as e:\n",
        "    print(e)"
      ]
    },
    {
      "attachments": {},
      "cell_type": "markdown",
      "metadata": {},
      "source": [
        "### Imported Instance Method"
      ]
    },
    {
      "cell_type": "code",
      "execution_count": null,
      "metadata": {},
      "outputs": [],
      "source": [
        "t2 = ImportedTest()"
      ]
    },
    {
      "cell_type": "code",
      "execution_count": null,
      "metadata": {},
      "outputs": [],
      "source": [
        "try:\n",
        "    t2.imported_method_test()\n",
        "except NameError as e:\n",
        "    print(e)"
      ]
    },
    {
      "cell_type": "code",
      "execution_count": null,
      "metadata": {},
      "outputs": [],
      "source": [
        "try:\n",
        "    t2.imported_method_test_y()\n",
        "except NameError as e:\n",
        "    print(e)"
      ]
    }
  ],
  "metadata": {
    "kernelspec": {
      "display_name": "Python 3 (ipykernel)",
      "language": "python",
      "name": "python3"
    }
  },
  "nbformat": 4,
  "nbformat_minor": 4
}
